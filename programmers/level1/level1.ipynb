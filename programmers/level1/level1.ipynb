{
 "cells": [
  {
   "cell_type": "markdown",
   "metadata": {},
   "source": [
    "개인정보 수집"
   ]
  },
  {
   "cell_type": "code",
   "execution_count": 13,
   "metadata": {},
   "outputs": [
    {
     "data": {
      "text/plain": [
       "[1, 3]"
      ]
     },
     "execution_count": 13,
     "metadata": {},
     "output_type": "execute_result"
    }
   ],
   "source": [
    "import datetime\n",
    "from dateutil.relativedelta import relativedelta\n",
    "\n",
    "def solution(today, terms, privacies):\n",
    "    answer = []\n",
    "    t_dict = {i.split()[0]:i.split()[1] for i in terms}\n",
    "\n",
    "    for i in range(len(privacies)):\n",
    "        t_type=privacies[i].split()[1]\n",
    "        dt=datetime.datetime.strptime(privacies[i].split()[0],'%Y.%m.%d')\n",
    "        td=relativedelta(months=+int(t_dict[t_type]))\n",
    "        if today >=datetime.datetime.strftime(dt+td,'%Y.%m.%d'):\n",
    "            answer.append(i+1)\n",
    "\n",
    "    return answer\n",
    "\n",
    "\n",
    "\n",
    "td= \"2022.05.19\"\n",
    "terms =[\"A 6\", \"B 12\", \"C 3\"]\t\n",
    "pr= [\"2021.05.02 A\", \"2021.07.01 B\", \"2022.02.19 C\", \"2022.02.20 C\"]\n",
    "solution(td,terms,pr)"
   ]
  },
  {
   "cell_type": "code",
   "execution_count": null,
   "metadata": {},
   "outputs": [],
   "source": []
  }
 ],
 "metadata": {
  "kernelspec": {
   "display_name": "Python 3.10.6 64-bit",
   "language": "python",
   "name": "python3"
  },
  "language_info": {
   "codemirror_mode": {
    "name": "ipython",
    "version": 3
   },
   "file_extension": ".py",
   "mimetype": "text/x-python",
   "name": "python",
   "nbconvert_exporter": "python",
   "pygments_lexer": "ipython3",
   "version": "3.10.6"
  },
  "orig_nbformat": 4,
  "vscode": {
   "interpreter": {
    "hash": "31f2aee4e71d21fbe5cf8b01ff0e069b9275f58929596ceb00d14d90e3e16cd6"
   }
  }
 },
 "nbformat": 4,
 "nbformat_minor": 2
}
