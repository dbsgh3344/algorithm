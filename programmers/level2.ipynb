{
 "cells": [
  {
   "cell_type": "raw",
   "metadata": {},
   "source": []
  },
  {
   "cell_type": "code",
   "execution_count": 6,
   "metadata": {},
   "outputs": [
    {
     "name": "stdout",
     "output_type": "stream",
     "text": [
      "['Prodo님이 들어왔습니다.', 'Ryan님이 들어왔습니다.', 'Prodo님이 떠났습니다.', 'Prodo님이 들어왔습니다.']\n"
     ]
    }
   ],
   "source": [
    "\n",
    "def solution(record) : \n",
    "    ans =[]\n",
    "    dicts = {}\n",
    "    for i in range(len(record)) :\n",
    "        tmp= (record[i]).split(' ')\n",
    "        if len(tmp) ==3:\n",
    "            dicts[tmp[1]] = tmp[2]\n",
    "        \n",
    "        log = ''\n",
    "        if tmp[0]=='Enter' :\n",
    "            log = '들어왔습니다.'\n",
    "            ans.append((tmp[1],log))\n",
    "        elif tmp[0] =='Leave':\n",
    "            log = '나갔습니다.'\n",
    "            ans.append((tmp[1],log))\n",
    "        \n",
    "    result = []\n",
    "    for i in range(len(ans)) :\n",
    "        tmp = dicts[ans[i][0]]+'님이 ' + ans[i][1]\n",
    "        result.append(tmp)\n",
    "\n",
    "    return result\n",
    "    \n",
    "\n",
    "\n",
    "\n",
    "record = [\"Enter uid1234 Muzi\", \"Enter uid4567 Prodo\",\"Leave uid1234\",\"Enter uid1234 Prodo\",\"Change uid4567 Ryan\"]\n",
    "\n",
    "result = solution(record)\n",
    "print(result)"
   ]
  },
  {
   "cell_type": "code",
   "execution_count": null,
   "metadata": {},
   "outputs": [],
   "source": []
  },
  {
   "cell_type": "code",
   "execution_count": 8,
   "metadata": {},
   "outputs": [
    {
     "name": "stdout",
     "output_type": "stream",
     "text": [
      "['Prodo님이 들어왔습니다.', 'Ryan님이 들어왔습니다.', 'Prodo님이 나갔습니다.', 'Prodo님이 들어왔습니다.', 'Ryan님이 나갔습니다.']\n"
     ]
    }
   ],
   "source": [
    "def solution(record):a= 'b'\n",
    "\n",
    "print(a*2)\n",
    "    user_id = {EC.split()[1]:EC.split()[-1] for EC in record if EC.startswith('Enter') or EC.startswith('Change')}\n",
    "    return [f'{user_id[E_L.split()[1]]}님이 들어왔습니다.' if E_L.startswith('Enter') else f'{user_id[E_L.split()[1]]}님이 나갔습니다.' for E_L in record if not E_L.startswith('Change')]\n",
    "\n",
    "\n",
    "record = [\"Enter uid1234 Muzi\", \"Enter uid4567 Prodo\",\"Leave uid1234\",\"Enter uid1234 Prodo\",\"Change uid4567 Ryan\",'Leave uid4567']\n",
    "\n",
    "result = solution(record)\n",
    "print(result)"
   ]
  },
  {
   "cell_type": "code",
   "execution_count": 7,
   "metadata": {},
   "outputs": [
    {
     "name": "stdout",
     "output_type": "stream",
     "text": [
      "True\n"
     ]
    }
   ],
   "source": [
    "a= 'Enter prodo muzi'\n",
    "print(a.startswith('Enter'))"
   ]
  },
  {
   "cell_type": "markdown",
   "metadata": {},
   "source": [
    "# 짝지어 제거하기"
   ]
  },
  {
   "cell_type": "code",
   "execution_count": 3,
   "metadata": {},
   "outputs": [
    {
     "name": "stdout",
     "output_type": "stream",
     "text": [
      "0\n"
     ]
    }
   ],
   "source": [
    "def solution (s) :\n",
    "    while len(s)!=0:\n",
    "        tmplen = len(s)\n",
    "        for i in range(len(s)-1) :\n",
    "            tmp=s[i:i+2]\n",
    "            if tmp[0]==tmp[1] :\n",
    "                s= s.replace(tmp,'')\n",
    "                break\n",
    "                \n",
    "        if len(s) ==tmplen :\n",
    "            break\n",
    "\n",
    "\n",
    "    return 1 if len(s)==0 else 0\n",
    "\n",
    "\n",
    "\n",
    "s = 'ababa'\n",
    "print(solution(s))"
   ]
  },
  {
   "cell_type": "code",
   "execution_count": 2,
   "metadata": {},
   "outputs": [
    {
     "data": {
      "text/plain": "0"
     },
     "execution_count": 2,
     "metadata": {},
     "output_type": "execute_result"
    }
   ],
   "source": [
    "def solution (strs) :\n",
    "    stk = []\n",
    "\n",
    "    for s in strs:\n",
    "        if len(stk)!=0 :\n",
    "            if stk[-1] ==s :\n",
    "                stk.pop()\n",
    "            else :\n",
    "                stk.append(s)\n",
    "        else :\n",
    "            stk.append(s)\n",
    "\n",
    "    return 1 if len(stk)==0 else 0\n",
    "        \n",
    "    \n",
    "\n",
    "\n",
    "strs = 'cdcd'\n",
    "solution(strs)"
   ]
  },
  {
   "cell_type": "code",
   "execution_count": 6,
   "metadata": {},
   "outputs": [
    {
     "data": {
      "text/plain": "{'a', 'e', 'f', 'g', 'k', 'l', 'n', 'o', 'r', 't', 'z'}"
     },
     "execution_count": 6,
     "metadata": {},
     "output_type": "execute_result"
    }
   ],
   "source": [
    "def solution(s) :\n",
    "    set_str = set(s)\n",
    "    while len(s)!=0:\n",
    "        tmplen = len(s)\n",
    "        stack =0\n",
    "        for al in list(set_str) :\n",
    "            s= s.replace(al*2,'')\n",
    "\n",
    "        if len(s) == tmplen :\n",
    "            break\n",
    "\n",
    "    return 1 if len(s)==0 else 0\n",
    "\n",
    "\n",
    "s= 'baba'\n",
    "print(solution(s))"
   ]
  },
  {
   "cell_type": "markdown",
   "metadata": {},
   "source": [
    "## 더맵게"
   ]
  },
  {
   "cell_type": "code",
   "execution_count": 18,
   "metadata": {},
   "outputs": [
    {
     "name": "stdout",
     "output_type": "stream",
     "text": [
      "deque([200, 100, 77, 7, 76, 58])\n",
      "deque([200, 100, 77, 210, 7])\n",
      "deque([200, 100, 427, 77])\n",
      "deque([200, 100, 931])\n",
      "4\n"
     ]
    }
   ],
   "source": [
    "\n",
    "def solution (s,k) :\n",
    "    sort_sco =deque(sorted(s,reverse=True))\n",
    "    cnt=0\n",
    "    while len(sort_sco)!=0 :\n",
    "        \n",
    "        min_sco = sort_sco.pop()\n",
    "        if (min_sco)>=k :\n",
    "            break\n",
    "        else :\n",
    "            sco_cnt = len(sort_sco)\n",
    "            mix_sco = min_sco + sort_sco.pop()*2\n",
    "            # sco_cnt = len(sort_sco)\n",
    "            # if (sco_cnt)%2 !=0 :\n",
    "            idx= (sco_cnt//2)\n",
    "            if sort_sco[idx+1] > mix_sco :\n",
    "                if sort_sco[idx*2] > mix_sco:\n",
    "                    sort_sco.append(mix_sco)\n",
    "                else :\n",
    "                    sort_sco.insert()\n",
    "\n",
    "            sort_sco.insert(idx+1, mix_sco)\n",
    "            \n",
    "            \n",
    "            \n",
    "        print(sort_sco)    \n",
    "                \n",
    "        cnt+=1\n",
    "            \n",
    "\n",
    "    return cnt\n",
    "\n",
    "    \n",
    "\n",
    "# sco = [1, 2, 3, 9, 10, 12]\n",
    "sco = [100,200,58,76,3,77,1]\n",
    "[200,100,77,76,58,3,1]\n",
    "k= 80\n",
    "print(solution(sco,k))"
   ]
  },
  {
   "cell_type": "code",
   "execution_count": 13,
   "metadata": {},
   "outputs": [
    {
     "name": "stdout",
     "output_type": "stream",
     "text": [
      "[3, 5, 10, 12, 9]\n",
      "[9, 12, 10, 13]\n",
      "2\n"
     ]
    }
   ],
   "source": [
    "import heapq as hq \n",
    "\n",
    "\n",
    "def solution (sco,k) :\n",
    "    cnt =0\n",
    "    sort_sco = []\n",
    "    [hq.heappush(sort_sco,i) for i in sco]\n",
    "    \n",
    "    while len(sort_sco)!=0 :\n",
    "        min_sco =hq.heappop(sort_sco)\n",
    "        if min_sco >=k : return cnt\n",
    "        elif len(sort_sco)==0 and min_sco <k: return -1\n",
    "        else :\n",
    "            mix_sco = min_sco + hq.heappop(sort_sco)*2\n",
    "            hq.heappush(sort_sco,mix_sco)\n",
    "        \n",
    "        cnt+=1\n",
    "\n",
    "\n",
    "    return -1\n",
    "\n",
    "\n",
    "sco = [1, 2, 3, 9, 10, 12]\n",
    "k=7\n",
    "print(solution(sco,k))\n"
   ]
  },
  {
   "cell_type": "code",
   "execution_count": 10,
   "metadata": {},
   "outputs": [
    {
     "name": "stdout",
     "output_type": "stream",
     "text": [
      "[-1, 9, 8, 7, 6, 5, 4, 3, 2, 1]\n"
     ]
    }
   ],
   "source": [
    "# deque만으로 한번 해볼 것\n",
    "from collections import deque\n",
    "a= [1,2,3,4,5,6,7,8,9]\n",
    "heap_dict ={}\n",
    "heap=[]\n",
    "a= (sorted(a,reverse=True))\n",
    "a.insert(0,-1)\n",
    "\n",
    "for i in range(1,len(a)-1) :\n",
    "    heap.append(a[i])\n",
    "    \n",
    "    \n",
    "\n",
    "\n",
    "# print(heap_dict)\n",
    "    \n"
   ]
  },
  {
   "cell_type": "markdown",
   "metadata": {},
   "source": [
    "### 올바른 정사각형"
   ]
  },
  {
   "cell_type": "code",
   "execution_count": 8,
   "metadata": {},
   "outputs": [
    {
     "data": {
      "text/plain": "80"
     },
     "execution_count": 8,
     "metadata": {},
     "output_type": "execute_result"
    }
   ],
   "source": [
    "import math\n",
    "def solution(w,h) :\n",
    "    return w*h - (w+h- math.gcd(w,h))\n",
    "    \n",
    "w = 8\n",
    "h= 12\n",
    "solution(w,h)\n"
   ]
  },
  {
   "cell_type": "markdown",
   "metadata": {},
   "source": [
    "### 행렬 테두리 회전    "
   ]
  },
  {
   "cell_type": "code",
   "execution_count": 30,
   "metadata": {},
   "outputs": [
    {
     "data": {
      "text/plain": "[1]"
     },
     "execution_count": 30,
     "metadata": {},
     "output_type": "execute_result"
    }
   ],
   "source": [
    "def solution(r,c,query) :\n",
    "    tmplist = []\n",
    "    arr= []\n",
    "    digit = 1\n",
    "    for row in range(1,r+1) :\n",
    "        tmp = [col for col in range(digit,row*c+1)]\n",
    "        arr.append(tmp)\n",
    "        digit = row*c+1\n",
    "\n",
    "    result = []\n",
    "    for q in query :\n",
    "        x1,y1,x2,y2 = q\n",
    "        \n",
    "        tmp = arr[x1-1][y1-1]\n",
    "        tmp_min = tmp\n",
    "        for x in range(x1 , x2) :\n",
    "            arr[x-1][y1-1] =arr[x][y1-1]\n",
    "            if arr[x-1][y1-1]<tmp_min:tmp_min = arr[x-1][y1-1]\n",
    "\n",
    "        for y in range(y1, y2) :\n",
    "            arr[x2-1][y-1] = arr[x2-1][y]\n",
    "            if arr[x2-1][y-1] <tmp_min : tmp_min = arr[x2-1][y-1]\n",
    "\n",
    "        for x in range(x2-1,x1-1,-1) :\n",
    "            arr[x][y2-1] = arr[x-1][y2-1]\n",
    "            if arr[x][y2-1] <tmp_min : tmp_min= arr[x][y2-1]\n",
    "\n",
    "        for y in range(y2-1,y1-1,-1) :\n",
    "            arr[x1-1][y] = arr[x1-1][y-1]\n",
    "            if arr[x1-1][y] < tmp_min : tmp_min = arr[x1-1][y]\n",
    "\n",
    "        arr[x1-1][y1] = tmp\n",
    "        result.append(tmp_min)        \n",
    "\n",
    "            \n",
    "    return result\n",
    "            \n",
    "\n",
    "\n",
    "\n",
    "# q = [[2,2,5,4],[3,3,6,6],[5,1,6,3]]\n",
    "# r,c = 6,6\n",
    "# q= [[1,1,2,2],[1,2,2,3],[2,1,3,2],[2,2,3,3]]\n",
    "# r,c = 3,3\n",
    "q= [[1,1,100,97]]\n",
    "r,c, = 100,97\n",
    "\n",
    "solution(r,c,q)"
   ]
  },
  {
   "cell_type": "markdown",
   "metadata": {},
   "source": [
    "### 메뉴 리뉴얼"
   ]
  },
  {
   "cell_type": "code",
   "execution_count": 3,
   "metadata": {},
   "outputs": [],
   "source": [
    "from itertools import combinations\n",
    "\n",
    "def solution(orders,cource) :\n",
    "    cname =''\n",
    "    for od in orders :\n",
    "        for c in cource :\n",
    "            a= list(combinations(od,c))\n",
    "            \n",
    "            break\n",
    "            \n",
    "        \n",
    "\n",
    "\n",
    "od= [\"ABCFG\", \"AC\", \"CDE\", \"ACDE\", \"BCFG\", \"ACDEH\"]\n",
    "c= [2,3,4]\n",
    "\n",
    "solution(od,c)\n",
    "\n",
    "\n"
   ]
  },
  {
   "cell_type": "code",
   "execution_count": null,
   "metadata": {},
   "outputs": [],
   "source": []
  },
  {
   "cell_type": "code",
   "execution_count": 2,
   "metadata": {},
   "outputs": [
    {
     "data": {
      "text/plain": "[3, 2, 4, 1]"
     },
     "execution_count": 2,
     "metadata": {},
     "output_type": "execute_result"
    }
   ],
   "source": [
    "import ast\n",
    "def solution(t) :\n",
    "    a= t.replace('{','[').replace('}',']')\n",
    "    lists = sorted(ast.literal_eval(a),key=len)\n",
    "    ans = []\n",
    "    for i in range(len(lists)) :\n",
    "        for num in ans :\n",
    "            if num in lists[i] :\n",
    "                lists[i].remove(num)\n",
    "        \n",
    "        ans+=lists[i]\n",
    "    \n",
    "    \n",
    "    return ans\n",
    "    \n",
    "t = \"{{4,2,3},{3},{2,3,4,1},{2,3}}\"\n",
    "# t= \"{{20,111},{111}}\"\n",
    "# t=\"{{123}}\"\n",
    "solution(t)"
   ]
  },
  {
   "cell_type": "code",
   "execution_count": 67,
   "metadata": {},
   "outputs": [
    {
     "name": "stdout",
     "output_type": "stream",
     "text": [
      "[('3', 4), ('2', 3), ('4', 2), ('1', 1)]\n"
     ]
    },
    {
     "data": {
      "text/plain": "[3, 2, 4, 1]"
     },
     "execution_count": 67,
     "metadata": {},
     "output_type": "execute_result"
    }
   ],
   "source": [
    "# 다른 사람 풀이\n",
    "import re \n",
    "from collections import Counter \n",
    "t = \"{{4,2,3},{3},{2,3,4,1},{2,3}}\"\n",
    "s= Counter(re.findall('\\d+',t))\n",
    "print(sorted(s.items(), key=lambda x: x[1],reverse=True))\n",
    "list(map(int,[k for k,v in  sorted(s.items(), key=lambda x: x[1],reverse=True)]))"
   ]
  },
  {
   "cell_type": "code",
   "execution_count": 73,
   "metadata": {},
   "outputs": [
    {
     "data": {
      "text/plain": "[3, 2, 4, 1]"
     },
     "execution_count": 73,
     "metadata": {},
     "output_type": "execute_result"
    }
   ],
   "source": [
    "# 다른 사람 풀이\n",
    "t = \"{{4,2,3},{3},{2,3,4,1},{2,3}}\"\n",
    "s= eval(t.replace('{','[').replace('}',']'))\n",
    "list({num:0 for i in sorted(s,key=lambda x : len(x)) for num in i }.keys())"
   ]
  },
  {
   "cell_type": "markdown",
   "metadata": {},
   "source": [
    "### 거리두기 "
   ]
  },
  {
   "cell_type": "code",
   "execution_count": 15,
   "metadata": {},
   "outputs": [
    {
     "name": "stdout",
     "output_type": "stream",
     "text": [
      "[1, 0, 1, 1, 1]\n",
      "0.0001652240753173828\n"
     ]
    }
   ],
   "source": [
    "from collections import deque\n",
    "def bfs(place) :\n",
    "    \n",
    "    \n",
    "    completearr =[[0]*5 for i in range(5)]\n",
    "    x = [-1,0,1,0]\n",
    "    y= [0,1,0,-1]\n",
    "    lists= deque([])\n",
    "    \n",
    "    for i in range(5) :\n",
    "        for j in range(5) :\n",
    "            if place[i][j] =='P' and completearr[i][j]!=1:\n",
    "                lists.append((i,j))\n",
    "                completearr[i][j]=1\n",
    "\n",
    "                while len(lists)!=0:\n",
    "                    xx,yy = lists.popleft()\n",
    "                    \n",
    "                    for k in range(4) :\n",
    "                        ax = xx+ x[k]\n",
    "                        ay = yy+y[k]\n",
    "                        if ax>=0 and ax <5 and ay>=0 and ay<5 and place[ax][ay]!='X' and completearr[ax][ay]!=1:\n",
    "                            \n",
    "                            mh_dis = abs(i-ax) +abs(j-ay)\n",
    "                            if mh_dis<=2:\n",
    "                                if place[ax][ay]=='P':\n",
    "                                    return 0\n",
    "                                lists.append((ax,ay))\n",
    "                                completearr[ax][ay]=1\n",
    "                \n",
    "\n",
    "\n",
    "    return 1\n",
    "\n",
    "def solution(place) :\n",
    "    ans =[]\n",
    "    for p in place:\n",
    "        ans.append(bfs(p))\n",
    "    \n",
    "    return ans\n",
    "    \n",
    "\n",
    "\n",
    "place = [[\"POOOP\",\n",
    "        \"OXXOX\",\n",
    "        \"OPXPX\",\n",
    "        \"OOXOX\",\n",
    "        \"POXXP\"], \n",
    "        [\"POOPX\", \n",
    "        \"OXPXP\", \n",
    "        \"PXXXO\", \n",
    "        \"OXXXO\", \n",
    "        \"OOOPP\"], \n",
    "        [\"PXOPX\", \n",
    "        \"OXOXP\", \n",
    "        \"OXPOX\", \n",
    "        \"OXXOP\", \n",
    "        \"PXPOX\"], \n",
    "        [\"OOOXX\", \n",
    "        \"XOOOX\", \n",
    "        \"OOOXX\", \n",
    "        \"OXOOX\", \n",
    "        \"OOOOO\"], [\"PXPXP\", \"XPXPX\", \"PXPXP\", \"XPXPX\", \"PXPXP\"]]\n",
    "import time\n",
    "st= time.time()\n",
    "print(solution(place))\n",
    "print(time.time()-st)"
   ]
  },
  {
   "cell_type": "markdown",
   "metadata": {},
   "source": [
    "### 거리두기 다른사람 풀이"
   ]
  },
  {
   "cell_type": "code",
   "execution_count": 14,
   "metadata": {},
   "outputs": [
    {
     "name": "stdout",
     "output_type": "stream",
     "text": [
      "[1, 0, 1, 1, 1]\n",
      "0.0004439353942871094\n"
     ]
    }
   ],
   "source": [
    "def check(place):\n",
    "    for irow, row in enumerate(place):\n",
    "        for icol, cell in enumerate(row):\n",
    "            if cell != 'P':\n",
    "                continue\n",
    "            if irow != 4 and place[irow + 1][icol] == 'P':\n",
    "                return 0\n",
    "            if icol != 4 and place[irow][icol + 1] == 'P':\n",
    "                return 0\n",
    "            if irow < 3 and place[irow + 2][icol] == 'P' and place[irow + 1][icol] != 'X':\n",
    "                return 0\n",
    "            if icol < 3 and place[irow][icol + 2] == 'P' and place[irow][icol + 1] != 'X':\n",
    "                return 0\n",
    "            if irow != 4 and icol != 4 and place[irow + 1][icol + 1] == 'P' and (place[irow + 1][icol] != 'X' or place[irow][icol + 1] != 'X'):\n",
    "                return 0\n",
    "            if irow != 4 and icol != 0 and place[irow + 1][icol - 1] == 'P' and (place[irow + 1][icol] != 'X' or place[irow][icol - 1] != 'X'):\n",
    "                return 0\n",
    "    return 1\n",
    "def solution(places):\n",
    "    \n",
    "    return [check(place) for place in places]\n",
    "\n",
    "\n",
    "import time\n",
    "place = [[\"POOOP\",\n",
    "        \"OXXOX\",\n",
    "        \"OPXPX\",\n",
    "        \"OOXOX\",\n",
    "        \"POXXP\"], \n",
    "        [\"POOPX\", \n",
    "        \"OXPXP\", \n",
    "        \"PXXXO\", \n",
    "        \"OXXXO\", \n",
    "        \"OOOPP\"], \n",
    "        [\"PXOPX\", \n",
    "        \"OXOXP\", \n",
    "        \"OXPOX\", \n",
    "        \"OXXOP\", \n",
    "        \"PXPOX\"], \n",
    "        [\"OOOXX\", \n",
    "        \"XOOOX\", \n",
    "        \"OOOXX\", \n",
    "        \"OXOOX\", \n",
    "        \"OOOOO\"], [\"PXPXP\", \"XPXPX\", \"PXPXP\", \"XPXPX\", \"PXPXP\"]]\n",
    "st = time.time()\n",
    "print(solution(place))\n",
    "print(time.time()-st)"
   ]
  },
  {
   "cell_type": "code",
   "execution_count": 16,
   "metadata": {},
   "outputs": [
    {
     "name": "stdout",
     "output_type": "stream",
     "text": [
      "[1, 0, 1, 1, 1]\n",
      "0.0005333423614501953\n"
     ]
    }
   ],
   "source": [
    "def solution(places):\n",
    "    result = []\n",
    "    dx = [-1, 1, 0, 0]\n",
    "    dy = [0, 0, -1, 1]\n",
    "\n",
    "    def f(i, j, cnt):\n",
    "        nonlocal good\n",
    "        if cnt >2 : return\n",
    "        if -1<i<5 and -1<j<5:\n",
    "            if graph[i][j] == 'X':\n",
    "                return\n",
    "\n",
    "            if cnt != 0 and graph[i][j] == 'P':\n",
    "                good = 0\n",
    "                return\n",
    "\n",
    "            graph[i][j] = 'X'\n",
    "\n",
    "            for w in range(4):\n",
    "                ni = i+dx[w]\n",
    "                nj = j+dy[w]\n",
    "                f(ni, nj, cnt+1)\n",
    "\n",
    "    for case in places:\n",
    "        graph = [list(r) for r in case]\n",
    "        good = 1\n",
    "        for i in range(5):\n",
    "            for j in range(5):\n",
    "                if graph[i][j]=='P':\n",
    "                    f(i,j,0)\n",
    "\n",
    "        result.append(good)\n",
    "    return result\n",
    "\n",
    "\n",
    "import time\n",
    "place = [[\"POOOP\",\n",
    "        \"OXXOX\",\n",
    "        \"OPXPX\",\n",
    "        \"OOXOX\",\n",
    "        \"POXXP\"], \n",
    "        [\"POOPX\", \n",
    "        \"OXPXP\", \n",
    "        \"PXXXO\", \n",
    "        \"OXXXO\", \n",
    "        \"OOOPP\"], \n",
    "        [\"PXOPX\", \n",
    "        \"OXOXP\", \n",
    "        \"OXPOX\", \n",
    "        \"OXXOP\", \n",
    "        \"PXPOX\"], \n",
    "        [\"OOOXX\", \n",
    "        \"XOOOX\", \n",
    "        \"OOOXX\", \n",
    "        \"OXOOX\", \n",
    "        \"OOOOO\"], [\"PXPXP\", \"XPXPX\", \"PXPXP\", \"XPXPX\", \"PXPXP\"]]\n",
    "st = time.time()\n",
    "print(solution(place))\n",
    "print(time.time()-st)"
   ]
  },
  {
   "cell_type": "markdown",
   "metadata": {},
   "source": [
    "### 수식 최대화"
   ]
  },
  {
   "cell_type": "code",
   "execution_count": 20,
   "metadata": {},
   "outputs": [
    {
     "name": "stdout",
     "output_type": "stream",
     "text": [
      "[-100, 60000, -200, 520]\n"
     ]
    }
   ],
   "source": [
    "import re\n",
    "from itertools import permutations\n",
    "def solution(ex) :\n",
    "    pat = re.compile('[^0-9]')\n",
    "    opers=pat.findall(ex)\n",
    "    com = permutations(['-','*','+'],3)\n",
    "    digits = list(map(int,ex.replace('-',',').replace('*',',').replace('+',',').split(',')))\n",
    "    lists= []\n",
    "    for idx,iter in enumerate(opers) :\n",
    "        operate = eval('{} {} {}'.format(digits[idx],iter,digits[idx+1]))\n",
    "        lists.append(operate)\n",
    "    print(lists)\n",
    "            \n",
    "                \n",
    "    \n",
    "\n",
    "\n",
    "\n",
    "\n",
    "ex = \"100-200*300-500+20\"\n",
    "solution(ex)"
   ]
  },
  {
   "cell_type": "code",
   "execution_count": 17,
   "metadata": {},
   "outputs": [
    {
     "name": "stdout",
     "output_type": "stream",
     "text": [
      "2\n"
     ]
    }
   ],
   "source": []
  }
 ],
 "metadata": {
  "kernelspec": {
   "display_name": "Python 3.9.7 64-bit",
   "metadata": {
    "interpreter": {
     "hash": "31f2aee4e71d21fbe5cf8b01ff0e069b9275f58929596ceb00d14d90e3e16cd6"
    }
   },
   "name": "python3"
  },
  "language_info": {
   "codemirror_mode": {
    "name": "ipython",
    "version": 3
   },
   "file_extension": ".py",
   "mimetype": "text/x-python",
   "name": "python",
   "nbconvert_exporter": "python",
   "pygments_lexer": "ipython3",
   "version": "3.9.7"
  },
  "orig_nbformat": 2
 },
 "nbformat": 4,
 "nbformat_minor": 2
}