{
 "cells": [
  {
   "cell_type": "markdown",
   "metadata": {},
   "source": [
    "### 추석 트래픽"
   ]
  },
  {
   "cell_type": "code",
   "execution_count": 43,
   "metadata": {},
   "outputs": [
    {
     "data": {
      "text/plain": "[2, 5, 4, 4, 6, 4, 4, 4, 2, 2]"
     },
     "execution_count": 44,
     "metadata": {},
     "output_type": "execute_result"
    }
   ],
   "source": [
    "import datetime as dt\n",
    "import time\n",
    "def solution(logs) :\n",
    "    # lists = list(map(lambda x :time.mktime(dt.datetime.fromisoformat(x).timetuple())*1e3 +dt.datetime.fromisoformat(x).microsecond/1e3 ,logs))    \n",
    "    cntlist = [0]*len(logs)\n",
    "    for i in range(len(logs)) :\n",
    "        dates,t,ptime = logs[i].split()\n",
    "        ptime = float(ptime[:-1])*1e3\n",
    "        tmptime =dt.datetime.fromisoformat(dates+' '+t)\n",
    "        endtime = time.mktime(tmptime.timetuple())*1e3 + tmptime.microsecond/1e3\n",
    "        starttime = endtime - ptime\n",
    "\n",
    "        if ptime>3*1e3 :\n",
    "            continue\n",
    "        cntlist[i]+=1\n",
    "        \n",
    "        for j in range(i,len(logs)) :\n",
    "            dates,t,ptime = logs[j].split()\n",
    "            ptime = float(ptime[:-1])*1e3\n",
    "            tmptime =dt.datetime.fromisoformat(dates+' '+t)\n",
    "            diff_endtime = time.mktime(tmptime.timetuple())*1e3 + tmptime.microsecond/1e3\n",
    "            diff_starttime = diff_endtime - ptime\n",
    "            \n",
    "            if (starttime <= diff_starttime and endtime >= diff_starttime) or (starttime<=diff_endtime and endtime >= diff_endtime) :\n",
    "                cntlist[i]+=1\n",
    "            \n",
    "        \n",
    "    \n",
    "    return cntlist\n",
    "\n",
    "\n",
    "\n",
    "\n",
    "\n",
    "\n",
    "log = [\n",
    "\"2016-09-15 20:59:57.421 0.351s\",\n",
    "\"2016-09-15 20:59:58.233 1.181s\",\n",
    "\"2016-09-15 20:59:58.299 0.8s\",\n",
    "\"2016-09-15 20:59:58.688 1.041s\",\n",
    "\"2016-09-15 20:59:59.591 1.412s\",\n",
    "\"2016-09-15 21:00:00.464 1.466s\",\n",
    "\"2016-09-15 21:00:00.741 1.581s\",\n",
    "\"2016-09-15 21:00:00.748 2.31s\",\n",
    "\"2016-09-15 21:00:00.966 0.381s\",\n",
    "\"2016-09-15 21:00:02.066 2.62s\"\n",
    "]\n",
    "\n",
    "solution(log)"
   ]
  },
  {
   "cell_type": "code",
   "execution_count": 34,
   "metadata": {},
   "outputs": [
    {
     "data": {
      "text/plain": "351.0"
     },
     "execution_count": 34,
     "metadata": {},
     "output_type": "execute_result"
    }
   ],
   "source": [
    "0.351 * 1e3"
   ]
  },
  {
   "cell_type": "code",
   "execution_count": 22,
   "metadata": {},
   "outputs": [
    {
     "data": {
      "text/plain": "(1473940802066.0, 1473940802067.0)"
     },
     "execution_count": 22,
     "metadata": {},
     "output_type": "execute_result"
    }
   ],
   "source": [
    "import datetime\n",
    "import time\n",
    "a = '2016-09-15 21:00:02.066'\n",
    "c='2016-09-15 21:00:02.067'\n",
    "\n",
    "\n",
    "b= datetime.datetime.fromisoformat(a)\n",
    "d= datetime.datetime.fromisoformat(c)\n",
    "time.mktime(b.timetuple())*1e3 + b.microsecond/1e3,time.mktime(d.timetuple())*1e3 + d.microsecond/1e3"
   ]
  },
  {
   "cell_type": "code",
   "execution_count": 19,
   "metadata": {},
   "outputs": [
    {
     "data": {
      "text/plain": "1000.0"
     },
     "execution_count": 19,
     "metadata": {},
     "output_type": "execute_result"
    }
   ],
   "source": []
  }
 ],
 "metadata": {
  "kernelspec": {
   "display_name": "Python 3.9.7 64-bit",
   "metadata": {
    "interpreter": {
     "hash": "31f2aee4e71d21fbe5cf8b01ff0e069b9275f58929596ceb00d14d90e3e16cd6"
    }
   },
   "name": "python3"
  },
  "language_info": {
   "codemirror_mode": {
    "name": "ipython",
    "version": 3
   },
   "file_extension": ".py",
   "mimetype": "text/x-python",
   "name": "python",
   "nbconvert_exporter": "python",
   "pygments_lexer": "ipython3",
   "version": "3.9.7"
  },
  "orig_nbformat": 2
 },
 "nbformat": 4,
 "nbformat_minor": 2
}