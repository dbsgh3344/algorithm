{
 "cells": [
  {
   "cell_type": "code",
   "execution_count": 6,
   "metadata": {},
   "outputs": [
    {
     "data": {
      "text/plain": [
       "10"
      ]
     },
     "execution_count": 6,
     "metadata": {},
     "output_type": "execute_result"
    }
   ],
   "source": [
    "def solution(p,m,c):    \n",
    "    return max(0,sum([p*i for i in range(1,c+1)])-m)\n",
    "\n",
    "\n",
    "p = 3\n",
    "m = 20\n",
    "c = 4\n",
    "solution(p,m,c)\n",
    "\n",
    "# 등차수열 공식 사용 \n",
    "def solution(price, money, count):\n",
    "    return max(0,price*(count+1)*count//2-money)\n",
    "\n",
    "    \n",
    "  "
   ]
  },
  {
   "cell_type": "code",
   "execution_count": 6,
   "metadata": {},
   "outputs": [
    {
     "name": "stdout",
     "output_type": "stream",
     "text": [
      "80 60\n"
     ]
    },
    {
     "data": {
      "text/plain": [
       "4800"
      ]
     },
     "execution_count": 6,
     "metadata": {},
     "output_type": "execute_result"
    }
   ],
   "source": [
    "# 최소 직사각형\n",
    "def solution(s) :\n",
    "    max_x= max(list(map(lambda x : x[0],s)))\n",
    "    max_y = max(list(map(lambda x : x[1],s)))\n",
    "    \n",
    "    for i in range(len(s)):\n",
    "        if s[i][0] <= max_y and s[i][0] < s[i][1] :\n",
    "            tmp = s[i][0]\n",
    "            s[i][0] = s[i][1]\n",
    "            s[i][1]= tmp\n",
    "        \n",
    "        elif s[i][1] <= max_x and s[i][1] > s[i][0] :\n",
    "            tmp = s[i][0]\n",
    "            s[i][0] = s[i][1]\n",
    "            s[i][1] = tmp\n",
    "\n",
    "    max_x= max(list(map(lambda x : x[0],s)))\n",
    "    max_y = max(list(map(lambda x : x[1],s)))\n",
    "\n",
    "    print(max_x, max_y)    \n",
    "    \n",
    "    return max_x * max_y\n",
    "        \n",
    "                  \n",
    "\n",
    "\n",
    "s = [[60, 50], [30, 70], [60, 30], [80, 40]]\n",
    "# s = [[10, 7], [12, 3], [8, 15], [14, 7], [5, 15]]\n",
    "solution(s)\n"
   ]
  },
  {
   "cell_type": "code",
   "execution_count": 3,
   "metadata": {},
   "outputs": [
    {
     "name": "stdout",
     "output_type": "stream",
     "text": [
      "19 7\n"
     ]
    },
    {
     "data": {
      "text/plain": [
       "133"
      ]
     },
     "execution_count": 3,
     "metadata": {},
     "output_type": "execute_result"
    }
   ],
   "source": [
    "def solution(s) :\n",
    "    max_x= max(list(map(lambda x : x[0],s)))\n",
    "    max_y = max(list(map(lambda x : x[1],s)))\n",
    "    \n",
    "    idx = 0 if max_x > max_y else 1\n",
    "\n",
    "    for i in range(len(s)) : \n",
    "        if s[i][idx] <s[i][idx-1] :\n",
    "            tmp = s[i][idx]\n",
    "            s[i][idx] = s[i][idx-1]\n",
    "            s[i][idx-1] = tmp\n",
    "    \n",
    "    max_x= max(list(map(lambda x : x[0],s)))\n",
    "    max_y = max(list(map(lambda x : x[1],s)))\n",
    "    \n",
    "    return max_x * max_y\n",
    "\n",
    "\n",
    "def solution(sizes):\n",
    "    return max(max(x) for x in sizes) * max(min(x) for x in sizes)\n",
    "\n",
    "solution = lambda sizes: max(sum(sizes, [])) * max(min(size) for size in sizes)\n",
    "\n",
    "\n",
    "s = [[60, 50], [30, 70], [60, 30], [80, 40]]\n",
    "s = [[10, 7], [12, 3], [8, 15], [14, 7], [5, 15]]\n",
    "s= [[14, 4], [19, 6], [6, 16], [18, 7], [7, 11]]\n",
    "solution(s)\n",
    "\n",
    "\n"
   ]
  },
  {
   "cell_type": "code",
   "execution_count": 4,
   "metadata": {},
   "outputs": [
    {
     "data": {
      "text/plain": [
       "[60, 50, 30, 70, 60, 30, 80, 40]"
      ]
     },
     "execution_count": 4,
     "metadata": {},
     "output_type": "execute_result"
    }
   ],
   "source": [
    "\n",
    "\n",
    "s = [[60, 50], [30, 70], [60, 30], [80, 40]]\n",
    "sum(s,[])"
   ]
  },
  {
   "cell_type": "code",
   "execution_count": null,
   "metadata": {},
   "outputs": [],
   "source": []
  }
 ],
 "metadata": {
  "interpreter": {
   "hash": "8a6378035587bb97055001603ea9d85a2aa377cc6252a50ffca4355a71bc8b90"
  },
  "kernelspec": {
   "display_name": "Python 3.8.5 64-bit",
   "language": "python",
   "name": "python3"
  },
  "language_info": {
   "codemirror_mode": {
    "name": "ipython",
    "version": 3
   },
   "file_extension": ".py",
   "mimetype": "text/x-python",
   "name": "python",
   "nbconvert_exporter": "python",
   "pygments_lexer": "ipython3",
   "version": "3.8.5"
  },
  "orig_nbformat": 4
 },
 "nbformat": 4,
 "nbformat_minor": 2
}
