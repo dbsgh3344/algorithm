{
 "cells": [
  {
   "cell_type": "markdown",
   "metadata": {},
   "source": [
    "옹알이"
   ]
  },
  {
   "cell_type": "code",
   "execution_count": 16,
   "metadata": {},
   "outputs": [
    {
     "name": "stdout",
     "output_type": "stream",
     "text": [
      " \n",
      " e\n",
      " a\n",
      "w oo\n"
     ]
    },
    {
     "data": {
      "text/plain": [
       "1"
      ]
     },
     "execution_count": 16,
     "metadata": {},
     "output_type": "execute_result"
    }
   ],
   "source": [
    "# from itertools import permutations\n",
    "def solution(babbling):\n",
    "    p_list =[ \"aya\", \"ye\", \"woo\", \"ma\"]\n",
    "    answer = 0\n",
    "    \n",
    "    for target in babbling:\n",
    "        str_target= target\n",
    "        for char in p_list:\n",
    "            if char in str_target:\n",
    "                str_target= str_target.replace(char,' ')\n",
    "                print(str_target)\n",
    "            \n",
    "            if str_target.strip()=='' :\n",
    "                answer+=1\n",
    "                break\n",
    "\n",
    "    return answer\n",
    "\n",
    "solution([\"aya\", \"yee\", \"u\", \"maa\", \"wyeoo\"])"
   ]
  }
 ],
 "metadata": {
  "kernelspec": {
   "display_name": "Python 3.10.6 64-bit",
   "language": "python",
   "name": "python3"
  },
  "language_info": {
   "codemirror_mode": {
    "name": "ipython",
    "version": 3
   },
   "file_extension": ".py",
   "mimetype": "text/x-python",
   "name": "python",
   "nbconvert_exporter": "python",
   "pygments_lexer": "ipython3",
   "version": "3.10.6"
  },
  "orig_nbformat": 4,
  "vscode": {
   "interpreter": {
    "hash": "31f2aee4e71d21fbe5cf8b01ff0e069b9275f58929596ceb00d14d90e3e16cd6"
   }
  }
 },
 "nbformat": 4,
 "nbformat_minor": 2
}
