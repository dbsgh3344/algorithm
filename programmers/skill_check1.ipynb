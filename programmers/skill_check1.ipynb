{
 "cells": [
  {
   "cell_type": "markdown",
   "metadata": {},
   "source": [
    "### 다트게임"
   ]
  },
  {
   "cell_type": "code",
   "execution_count": 43,
   "metadata": {},
   "outputs": [
    {
     "data": {
      "text/plain": "37"
     },
     "execution_count": 43,
     "metadata": {},
     "output_type": "execute_result"
    }
   ],
   "source": [
    "def solution(dart) :\n",
    "    bonusdicts = {'S':1,'D':2,'T':3}\n",
    "    lists = []\n",
    "    # for i in range(len(dart)) :\n",
    "    i=0\n",
    "    while i<len(dart):\n",
    "        if dart[i].isdigit() and dart[i+1].isdigit():\n",
    "            lists.append(int(dart[i:i+2]))\n",
    "            i+=2\n",
    "            continue\n",
    "        elif dart[i].isdigit():\n",
    "            lists.append(int(dart[i]))\n",
    "        elif dart[i] in bonusdicts.keys():\n",
    "            lists.append(lists.pop()**bonusdicts[dart[i]])\n",
    "        else :\n",
    "            if dart[i]== '*' :\n",
    "                tmp=[]\n",
    "                tmp.append(lists.pop()*2)\n",
    "                if len(lists)>=1:\n",
    "                    tmp.insert(0,lists.pop()*2)                \n",
    "                lists+=tmp\n",
    "            else :\n",
    "                lists.append(lists.pop()*-1)\n",
    "        i+=1\n",
    "    return sum(lists)\n",
    "    \n",
    "dart = '1S2D*3T'\n",
    "solution(dart)"
   ]
  },
  {
   "cell_type": "code",
   "execution_count": null,
   "metadata": {},
   "outputs": [],
   "source": [
    "def solution(a):\n",
    "    sdt = {'S':1,'D':2,'T':3}\n",
    "    \n",
    "    option ={'*':2,'#':-1}\n",
    "    \n",
    "    lists= []\n",
    "    for i in range(1,len(a)):\n",
    "        if a[i] in sdt:\n",
    "            if (a[i-2] not in sdt) and (a[i-2] not in option):\n",
    "                lists.append(int(a[i-2:i])**sdt[a[i]])\n",
    "            else:\n",
    "                lists.append(int(a[i-1])**sdt[a[i]])\n",
    "        \n",
    "        elif a[i]=='*':\n",
    "            if len(lists) <=1:\n",
    "                lists[-1] *=2\n",
    "            else :\n",
    "                lists[-1] *=2\n",
    "                lists[-2] *=2   \n",
    "        elif a[i]=='#':\n",
    "            lists[-1] *= -1\n",
    "    return sum(lists)\n",
    "\n",
    "solution('1D2S#10S')"
   ]
  },
  {
   "cell_type": "markdown",
   "metadata": {},
   "source": [
    "### 정수의 합"
   ]
  },
  {
   "cell_type": "code",
   "execution_count": 26,
   "metadata": {},
   "outputs": [
    {
     "data": {
      "text/plain": "3"
     },
     "execution_count": 26,
     "metadata": {},
     "output_type": "execute_result"
    }
   ],
   "source": [
    "def solution(a,b) :\n",
    "    minv= min(a,b)\n",
    "    maxv =max(a,b)\n",
    "    \n",
    "    \n",
    "    return sum(list(range(minv,maxv+1)))\n",
    "\n",
    "\n",
    "a=3\n",
    "b=3\n",
    "solution(a,b)"
   ]
  },
  {
   "cell_type": "markdown",
   "metadata": {},
   "source": [
    "### 문자 크기비교"
   ]
  },
  {
   "cell_type": "code",
   "execution_count": 30,
   "metadata": {},
   "outputs": [
    {
     "data": {
      "text/plain": "'gfedcbZ'"
     },
     "execution_count": 30,
     "metadata": {},
     "output_type": "execute_result"
    }
   ],
   "source": [
    "def solution(s):\n",
    "    return ''.join(sorted(s, key= lambda x: ord(x),reverse=True))\n",
    "\n",
    "s= \"Zbcdefg\"\n",
    "solution(s)"
   ]
  }
 ],
 "metadata": {
  "kernelspec": {
   "display_name": "Python 3.9.7 64-bit",
   "metadata": {
    "interpreter": {
     "hash": "31f2aee4e71d21fbe5cf8b01ff0e069b9275f58929596ceb00d14d90e3e16cd6"
    }
   },
   "name": "python3"
  },
  "language_info": {
   "codemirror_mode": {
    "name": "ipython",
    "version": 3
   },
   "file_extension": ".py",
   "mimetype": "text/x-python",
   "name": "python",
   "nbconvert_exporter": "python",
   "pygments_lexer": "ipython3",
   "version": "3.9.7"
  },
  "orig_nbformat": 2
 },
 "nbformat": 4,
 "nbformat_minor": 2
}